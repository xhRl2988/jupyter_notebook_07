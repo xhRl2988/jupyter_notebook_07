{
 "cells": [
  {
   "cell_type": "code",
   "execution_count": 2,
   "id": "8ad90d20-dcfa-4cc0-abbd-8d614ec6607e",
   "metadata": {},
   "outputs": [
    {
     "name": "stdout",
     "output_type": "stream",
     "text": [
      "제 이름은 홍길동 입니다. 나이는 18입니다.\n"
     ]
    }
   ],
   "source": [
    "age = 18\n",
    "name = '홍길동'\n",
    "introduce = '제 이름은 {} 입니다. 나이는 {}입니다.'\n",
    "print(introduce.format(name,age))"
   ]
  },
  {
   "cell_type": "code",
   "execution_count": 5,
   "id": "43e26741-b921-4898-a8aa-59d602b0924e",
   "metadata": {},
   "outputs": [
    {
     "name": "stdout",
     "output_type": "stream",
     "text": [
      "제 이름은 홍길동 입니다. 나이는18입니다.\n"
     ]
    }
   ],
   "source": [
    "print(f'제 이름은 {name} 입니다. 나이는{age}입니다.')"
   ]
  },
  {
   "cell_type": "code",
   "execution_count": 6,
   "id": "4fbab699-26ed-48be-bee6-c8fb9cd16605",
   "metadata": {},
   "outputs": [
    {
     "name": "stdout",
     "output_type": "stream",
     "text": [
      "불이 켜짐\n"
     ]
    }
   ],
   "source": [
    "switch = True\n",
    "if switch : \n",
    "    print('불이 켜짐')"
   ]
  },
  {
   "cell_type": "code",
   "execution_count": 8,
   "id": "a1cb2d2d-03d5-4afd-b642-92b5faca6957",
   "metadata": {},
   "outputs": [],
   "source": [
    "switch = False\n",
    "if switch : \n",
    "    print('불이 켜짐')"
   ]
  },
  {
   "cell_type": "code",
   "execution_count": 13,
   "id": "d7e0a4f9-05c4-4b5f-9fdb-2814c2471c79",
   "metadata": {},
   "outputs": [
    {
     "name": "stdout",
     "output_type": "stream",
     "text": [
      "불이 꺼짐\n"
     ]
    }
   ],
   "source": [
    "switch = False\n",
    "if switch : \n",
    "    print('불이 켜짐')\n",
    "else :\n",
    "    print('불이 꺼짐')"
   ]
  },
  {
   "cell_type": "code",
   "execution_count": 15,
   "id": "c2a9cb3d-0988-41c1-a164-ae5dbecb61e0",
   "metadata": {},
   "outputs": [
    {
     "name": "stdout",
     "output_type": "stream",
     "text": [
      "성인\n"
     ]
    }
   ],
   "source": [
    "age = 50\n",
    "if age < 20 :\n",
    "    print('미성년자')\n",
    "elif age <= age < 70 :\n",
    "    print('성인')\n",
    "else :\n",
    "    print('어르신')"
   ]
  },
  {
   "cell_type": "code",
   "execution_count": 28,
   "id": "1dd0a686-5a97-44c8-900f-195c07242d1a",
   "metadata": {},
   "outputs": [
    {
     "name": "stdin",
     "output_type": "stream",
     "text": [
      " 4\n"
     ]
    },
    {
     "name": "stdout",
     "output_type": "stream",
     "text": [
      "짝수\n"
     ]
    }
   ],
   "source": [
    "n = int(input())\n",
    "if n==0:\n",
    "    print('0입니다')\n",
    "elif  n%2==0 :\n",
    "    print('짝수')\n",
    "else :\n",
    "    print('홀수')"
   ]
  },
  {
   "cell_type": "code",
   "execution_count": 32,
   "id": "ab289133-dfc0-4617-8b97-51f954a345dd",
   "metadata": {},
   "outputs": [
    {
     "name": "stdout",
     "output_type": "stream",
     "text": [
      "False\n",
      "True\n",
      "['강아지', '토끼', '고양이']\n",
      "강아지 토끼 고양이\n"
     ]
    }
   ],
   "source": [
    "animal = ['강아지','토끼','고양이']\n",
    "print('사자' in animal)\n",
    "print('토끼' in animal)\n",
    "print(animal)\n",
    "print(animal[0],animal[1],animal[2])"
   ]
  },
  {
   "cell_type": "code",
   "execution_count": 15,
   "id": "e56ecbc2-2d6e-4ce4-80be-fdf5924a8051",
   "metadata": {},
   "outputs": [
    {
     "name": "stdout",
     "output_type": "stream",
     "text": [
      "가위=0 바위=1 보=2\n"
     ]
    },
    {
     "name": "stdin",
     "output_type": "stream",
     "text": [
      " 1\n"
     ]
    },
    {
     "name": "stdout",
     "output_type": "stream",
     "text": [
      "you\n",
      "['바위']\n",
      "com\n",
      "['가위']\n",
      "이겼습니다\n"
     ]
    }
   ],
   "source": [
    "import random\n",
    "print('가위=0 바위=1 보=2')\n",
    "you = input()\n",
    "\n",
    "if you==1 :\n",
    "    you=['가위']\n",
    "elif you==2 :\n",
    "    you=['보']\n",
    "else :\n",
    "    you=['바위']\n",
    "\n",
    "\n",
    "choices = ['가위','바위','보']\n",
    "com=random.choices(choices)\n",
    "\n",
    "print('you')\n",
    "print(you)\n",
    "print('com')\n",
    "print(com)\n",
    "\n",
    "if you==com :\n",
    "    print('비겼습니다')\n",
    "elif (you==['가위'] and com==['보']) or (you==['바위'] and com==['가위']) or (you==['보'] and com==['바위']) :\n",
    "    print('이겼습니다')\n",
    "else :\n",
    "    print('졌습니다')\n",
    "\n",
    "\n"
   ]
  },
  {
   "cell_type": "markdown",
   "id": "469b4b70-e789-43e9-8f09-d9223a7a2832",
   "metadata": {},
   "source": []
  }
 ],
 "metadata": {
  "kernelspec": {
   "display_name": "Python 3 (ipykernel)",
   "language": "python",
   "name": "python3"
  },
  "language_info": {
   "codemirror_mode": {
    "name": "ipython",
    "version": 3
   },
   "file_extension": ".py",
   "mimetype": "text/x-python",
   "name": "python",
   "nbconvert_exporter": "python",
   "pygments_lexer": "ipython3",
   "version": "3.12.2"
  }
 },
 "nbformat": 4,
 "nbformat_minor": 5
}
